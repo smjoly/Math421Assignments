{
 "cells": [
  {
   "cell_type": "code",
   "execution_count": 1,
   "metadata": {},
   "outputs": [
    {
     "name": "stderr",
     "output_type": "stream",
     "text": [
      "\n",
      "Attaching package: 'dplyr'\n",
      "\n",
      "The following objects are masked from 'package:stats':\n",
      "\n",
      "    filter, lag\n",
      "\n",
      "The following objects are masked from 'package:base':\n",
      "\n",
      "    intersect, setdiff, setequal, union\n",
      "\n"
     ]
    },
    {
     "data": {
      "text/html": [
       "<table>\n",
       "<thead><tr><th scope=col>Test</th><th scope=col>Ellie</th><th scope=col>John</th><th scope=col>Sean</th><th scope=col>Taylor</th></tr></thead>\n",
       "<tbody>\n",
       "\t<tr><td>Test1</td><td>0.8  </td><td>0.95 </td><td>0.84 </td><td>0.90 </td></tr>\n",
       "\t<tr><td>Test2</td><td>0.7  </td><td>0.87 </td><td>0.95 </td><td>0.88 </td></tr>\n",
       "\t<tr><td>Test3</td><td>0.8  </td><td>0.98 </td><td>0.90 </td><td>0.94 </td></tr>\n",
       "</tbody>\n",
       "</table>\n"
      ],
      "text/latex": [
       "\\begin{tabular}{r|lllll}\n",
       " Test & Ellie & John & Sean & Taylor\\\\\n",
       "\\hline\n",
       "\t Test1 & 0.8   & 0.95  & 0.84  & 0.90 \\\\\n",
       "\t Test2 & 0.7   & 0.87  & 0.95  & 0.88 \\\\\n",
       "\t Test3 & 0.8   & 0.98  & 0.90  & 0.94 \\\\\n",
       "\\end{tabular}\n"
      ],
      "text/markdown": [
       "\n",
       "Test | Ellie | John | Sean | Taylor | \n",
       "|---|---|---|\n",
       "| Test1 | 0.8   | 0.95  | 0.84  | 0.90  | \n",
       "| Test2 | 0.7   | 0.87  | 0.95  | 0.88  | \n",
       "| Test3 | 0.8   | 0.98  | 0.90  | 0.94  | \n",
       "\n",
       "\n"
      ],
      "text/plain": [
       "  Test  Ellie John Sean Taylor\n",
       "1 Test1 0.8   0.95 0.84 0.90  \n",
       "2 Test2 0.7   0.87 0.95 0.88  \n",
       "3 Test3 0.8   0.98 0.90 0.94  "
      ]
     },
     "metadata": {},
     "output_type": "display_data"
    },
    {
     "data": {
      "text/html": [
       "<table>\n",
       "<thead><tr><th scope=col>Name</th><th scope=col>Major.x</th><th scope=col>GPA</th><th scope=col>Major.y</th><th scope=col>Salary</th></tr></thead>\n",
       "<tbody>\n",
       "\t<tr><td>Sean          </td><td>Actuarial Math</td><td>3.98          </td><td>Actuarial Math</td><td>65000         </td></tr>\n",
       "\t<tr><td>William       </td><td>Psychology    </td><td>3.60          </td><td>NA            </td><td>   NA         </td></tr>\n",
       "\t<tr><td>Sophia        </td><td>Marketing     </td><td>3.20          </td><td>NA            </td><td>   NA         </td></tr>\n",
       "\t<tr><td>John          </td><td>Marketing     </td><td>2.50          </td><td>Marketing     </td><td>50000         </td></tr>\n",
       "\t<tr><td>Joseph        </td><td>Finance       </td><td>3.40          </td><td>Finance       </td><td>60000         </td></tr>\n",
       "</tbody>\n",
       "</table>\n"
      ],
      "text/latex": [
       "\\begin{tabular}{r|lllll}\n",
       " Name & Major.x & GPA & Major.y & Salary\\\\\n",
       "\\hline\n",
       "\t Sean           & Actuarial Math & 3.98           & Actuarial Math & 65000         \\\\\n",
       "\t William        & Psychology     & 3.60           & NA             &    NA         \\\\\n",
       "\t Sophia         & Marketing      & 3.20           & NA             &    NA         \\\\\n",
       "\t John           & Marketing      & 2.50           & Marketing      & 50000         \\\\\n",
       "\t Joseph         & Finance        & 3.40           & Finance        & 60000         \\\\\n",
       "\\end{tabular}\n"
      ],
      "text/markdown": [
       "\n",
       "Name | Major.x | GPA | Major.y | Salary | \n",
       "|---|---|---|---|---|\n",
       "| Sean           | Actuarial Math | 3.98           | Actuarial Math | 65000          | \n",
       "| William        | Psychology     | 3.60           | NA             |    NA          | \n",
       "| Sophia         | Marketing      | 3.20           | NA             |    NA          | \n",
       "| John           | Marketing      | 2.50           | Marketing      | 50000          | \n",
       "| Joseph         | Finance        | 3.40           | Finance        | 60000          | \n",
       "\n",
       "\n"
      ],
      "text/plain": [
       "  Name    Major.x        GPA  Major.y        Salary\n",
       "1 Sean    Actuarial Math 3.98 Actuarial Math 65000 \n",
       "2 William Psychology     3.60 NA                NA \n",
       "3 Sophia  Marketing      3.20 NA                NA \n",
       "4 John    Marketing      2.50 Marketing      50000 \n",
       "5 Joseph  Finance        3.40 Finance        60000 "
      ]
     },
     "metadata": {},
     "output_type": "display_data"
    },
    {
     "data": {
      "text/html": [
       "<table>\n",
       "<thead><tr><th scope=col>Name</th><th scope=col>Major.x</th><th scope=col>GPA</th><th scope=col>Major.y</th><th scope=col>Salary</th></tr></thead>\n",
       "<tbody>\n",
       "\t<tr><td>Sean          </td><td>Actuarial Math</td><td>3.98          </td><td>Actuarial Math</td><td>65000         </td></tr>\n",
       "\t<tr><td>Taylor        </td><td>NA            </td><td>  NA          </td><td>English       </td><td>40000         </td></tr>\n",
       "\t<tr><td>Ellie         </td><td>NA            </td><td>  NA          </td><td>History       </td><td>45000         </td></tr>\n",
       "\t<tr><td>John          </td><td>Marketing     </td><td>2.50          </td><td>Marketing     </td><td>50000         </td></tr>\n",
       "\t<tr><td>Joseph        </td><td>Finance       </td><td>3.40          </td><td>Finance       </td><td>60000         </td></tr>\n",
       "</tbody>\n",
       "</table>\n"
      ],
      "text/latex": [
       "\\begin{tabular}{r|lllll}\n",
       " Name & Major.x & GPA & Major.y & Salary\\\\\n",
       "\\hline\n",
       "\t Sean           & Actuarial Math & 3.98           & Actuarial Math & 65000         \\\\\n",
       "\t Taylor         & NA             &   NA           & English        & 40000         \\\\\n",
       "\t Ellie          & NA             &   NA           & History        & 45000         \\\\\n",
       "\t John           & Marketing      & 2.50           & Marketing      & 50000         \\\\\n",
       "\t Joseph         & Finance        & 3.40           & Finance        & 60000         \\\\\n",
       "\\end{tabular}\n"
      ],
      "text/markdown": [
       "\n",
       "Name | Major.x | GPA | Major.y | Salary | \n",
       "|---|---|---|---|---|\n",
       "| Sean           | Actuarial Math | 3.98           | Actuarial Math | 65000          | \n",
       "| Taylor         | NA             |   NA           | English        | 40000          | \n",
       "| Ellie          | NA             |   NA           | History        | 45000          | \n",
       "| John           | Marketing      | 2.50           | Marketing      | 50000          | \n",
       "| Joseph         | Finance        | 3.40           | Finance        | 60000          | \n",
       "\n",
       "\n"
      ],
      "text/plain": [
       "  Name   Major.x        GPA  Major.y        Salary\n",
       "1 Sean   Actuarial Math 3.98 Actuarial Math 65000 \n",
       "2 Taylor NA               NA English        40000 \n",
       "3 Ellie  NA               NA History        45000 \n",
       "4 John   Marketing      2.50 Marketing      50000 \n",
       "5 Joseph Finance        3.40 Finance        60000 "
      ]
     },
     "metadata": {},
     "output_type": "display_data"
    },
    {
     "data": {
      "text/html": [
       "<table>\n",
       "<thead><tr><th scope=col>Name</th><th scope=col>Major.x</th><th scope=col>GPA</th><th scope=col>Major.y</th><th scope=col>Salary</th></tr></thead>\n",
       "<tbody>\n",
       "\t<tr><td>Sean          </td><td>Actuarial Math</td><td>3.98          </td><td>Actuarial Math</td><td>65000         </td></tr>\n",
       "\t<tr><td>John          </td><td>Marketing     </td><td>2.50          </td><td>Marketing     </td><td>50000         </td></tr>\n",
       "\t<tr><td>Joseph        </td><td>Finance       </td><td>3.40          </td><td>Finance       </td><td>60000         </td></tr>\n",
       "</tbody>\n",
       "</table>\n"
      ],
      "text/latex": [
       "\\begin{tabular}{r|lllll}\n",
       " Name & Major.x & GPA & Major.y & Salary\\\\\n",
       "\\hline\n",
       "\t Sean           & Actuarial Math & 3.98           & Actuarial Math & 65000         \\\\\n",
       "\t John           & Marketing      & 2.50           & Marketing      & 50000         \\\\\n",
       "\t Joseph         & Finance        & 3.40           & Finance        & 60000         \\\\\n",
       "\\end{tabular}\n"
      ],
      "text/markdown": [
       "\n",
       "Name | Major.x | GPA | Major.y | Salary | \n",
       "|---|---|---|\n",
       "| Sean           | Actuarial Math | 3.98           | Actuarial Math | 65000          | \n",
       "| John           | Marketing      | 2.50           | Marketing      | 50000          | \n",
       "| Joseph         | Finance        | 3.40           | Finance        | 60000          | \n",
       "\n",
       "\n"
      ],
      "text/plain": [
       "  Name   Major.x        GPA  Major.y        Salary\n",
       "1 Sean   Actuarial Math 3.98 Actuarial Math 65000 \n",
       "2 John   Marketing      2.50 Marketing      50000 \n",
       "3 Joseph Finance        3.40 Finance        60000 "
      ]
     },
     "metadata": {},
     "output_type": "display_data"
    },
    {
     "data": {
      "text/html": [
       "<table>\n",
       "<thead><tr><th scope=col>Name</th><th scope=col>Major.x</th><th scope=col>GPA</th><th scope=col>Major.y</th><th scope=col>Salary</th></tr></thead>\n",
       "<tbody>\n",
       "\t<tr><td>Sean          </td><td>Actuarial Math</td><td>3.98          </td><td>Actuarial Math</td><td>65000         </td></tr>\n",
       "\t<tr><td>William       </td><td>Psychology    </td><td>3.60          </td><td>NA            </td><td>   NA         </td></tr>\n",
       "\t<tr><td>Sophia        </td><td>Marketing     </td><td>3.20          </td><td>NA            </td><td>   NA         </td></tr>\n",
       "\t<tr><td>John          </td><td>Marketing     </td><td>2.50          </td><td>Marketing     </td><td>50000         </td></tr>\n",
       "\t<tr><td>Joseph        </td><td>Finance       </td><td>3.40          </td><td>Finance       </td><td>60000         </td></tr>\n",
       "\t<tr><td>Taylor        </td><td>NA            </td><td>  NA          </td><td>English       </td><td>40000         </td></tr>\n",
       "\t<tr><td>Ellie         </td><td>NA            </td><td>  NA          </td><td>History       </td><td>45000         </td></tr>\n",
       "</tbody>\n",
       "</table>\n"
      ],
      "text/latex": [
       "\\begin{tabular}{r|lllll}\n",
       " Name & Major.x & GPA & Major.y & Salary\\\\\n",
       "\\hline\n",
       "\t Sean           & Actuarial Math & 3.98           & Actuarial Math & 65000         \\\\\n",
       "\t William        & Psychology     & 3.60           & NA             &    NA         \\\\\n",
       "\t Sophia         & Marketing      & 3.20           & NA             &    NA         \\\\\n",
       "\t John           & Marketing      & 2.50           & Marketing      & 50000         \\\\\n",
       "\t Joseph         & Finance        & 3.40           & Finance        & 60000         \\\\\n",
       "\t Taylor         & NA             &   NA           & English        & 40000         \\\\\n",
       "\t Ellie          & NA             &   NA           & History        & 45000         \\\\\n",
       "\\end{tabular}\n"
      ],
      "text/markdown": [
       "\n",
       "Name | Major.x | GPA | Major.y | Salary | \n",
       "|---|---|---|---|---|---|---|\n",
       "| Sean           | Actuarial Math | 3.98           | Actuarial Math | 65000          | \n",
       "| William        | Psychology     | 3.60           | NA             |    NA          | \n",
       "| Sophia         | Marketing      | 3.20           | NA             |    NA          | \n",
       "| John           | Marketing      | 2.50           | Marketing      | 50000          | \n",
       "| Joseph         | Finance        | 3.40           | Finance        | 60000          | \n",
       "| Taylor         | NA             |   NA           | English        | 40000          | \n",
       "| Ellie          | NA             |   NA           | History        | 45000          | \n",
       "\n",
       "\n"
      ],
      "text/plain": [
       "  Name    Major.x        GPA  Major.y        Salary\n",
       "1 Sean    Actuarial Math 3.98 Actuarial Math 65000 \n",
       "2 William Psychology     3.60 NA                NA \n",
       "3 Sophia  Marketing      3.20 NA                NA \n",
       "4 John    Marketing      2.50 Marketing      50000 \n",
       "5 Joseph  Finance        3.40 Finance        60000 \n",
       "6 Taylor  NA               NA English        40000 \n",
       "7 Ellie   NA               NA History        45000 "
      ]
     },
     "metadata": {},
     "output_type": "display_data"
    },
    {
     "data": {
      "text/html": [
       "<table>\n",
       "<thead><tr><th scope=col>Name</th><th scope=col>Major</th><th scope=col>GPA</th></tr></thead>\n",
       "<tbody>\n",
       "\t<tr><td>Sean          </td><td>Actuarial Math</td><td>3.98          </td></tr>\n",
       "\t<tr><td>John          </td><td>Marketing     </td><td>2.50          </td></tr>\n",
       "\t<tr><td>Joseph        </td><td>Finance       </td><td>3.40          </td></tr>\n",
       "</tbody>\n",
       "</table>\n"
      ],
      "text/latex": [
       "\\begin{tabular}{r|lll}\n",
       " Name & Major & GPA\\\\\n",
       "\\hline\n",
       "\t Sean           & Actuarial Math & 3.98          \\\\\n",
       "\t John           & Marketing      & 2.50          \\\\\n",
       "\t Joseph         & Finance        & 3.40          \\\\\n",
       "\\end{tabular}\n"
      ],
      "text/markdown": [
       "\n",
       "Name | Major | GPA | \n",
       "|---|---|---|\n",
       "| Sean           | Actuarial Math | 3.98           | \n",
       "| John           | Marketing      | 2.50           | \n",
       "| Joseph         | Finance        | 3.40           | \n",
       "\n",
       "\n"
      ],
      "text/plain": [
       "  Name   Major          GPA \n",
       "1 Sean   Actuarial Math 3.98\n",
       "2 John   Marketing      2.50\n",
       "3 Joseph Finance        3.40"
      ]
     },
     "metadata": {},
     "output_type": "display_data"
    },
    {
     "data": {
      "text/html": [
       "<table>\n",
       "<thead><tr><th scope=col>Name</th><th scope=col>Major</th><th scope=col>GPA</th></tr></thead>\n",
       "<tbody>\n",
       "\t<tr><td>William   </td><td>Psychology</td><td>3.6       </td></tr>\n",
       "\t<tr><td>Sophia    </td><td>Marketing </td><td>3.2       </td></tr>\n",
       "</tbody>\n",
       "</table>\n"
      ],
      "text/latex": [
       "\\begin{tabular}{r|lll}\n",
       " Name & Major & GPA\\\\\n",
       "\\hline\n",
       "\t William    & Psychology & 3.6       \\\\\n",
       "\t Sophia     & Marketing  & 3.2       \\\\\n",
       "\\end{tabular}\n"
      ],
      "text/markdown": [
       "\n",
       "Name | Major | GPA | \n",
       "|---|---|\n",
       "| William    | Psychology | 3.6        | \n",
       "| Sophia     | Marketing  | 3.2        | \n",
       "\n",
       "\n"
      ],
      "text/plain": [
       "  Name    Major      GPA\n",
       "1 William Psychology 3.6\n",
       "2 Sophia  Marketing  3.2"
      ]
     },
     "metadata": {},
     "output_type": "display_data"
    },
    {
     "data": {
      "text/html": [
       "<table>\n",
       "<thead><tr><th scope=col>Name</th><th scope=col>Major</th><th scope=col>GPA</th><th scope=col>Salary</th></tr></thead>\n",
       "<tbody>\n",
       "\t<tr><td>Sean          </td><td>Actuarial Math</td><td>3.98          </td><td>65000         </td></tr>\n",
       "\t<tr><td>William       </td><td>Psychology    </td><td>3.60          </td><td>   NA         </td></tr>\n",
       "\t<tr><td>Sophia        </td><td>Marketing     </td><td>3.20          </td><td>   NA         </td></tr>\n",
       "\t<tr><td>John          </td><td>Marketing     </td><td>2.50          </td><td>50000         </td></tr>\n",
       "\t<tr><td>Joseph        </td><td>Finance       </td><td>3.40          </td><td>60000         </td></tr>\n",
       "</tbody>\n",
       "</table>\n"
      ],
      "text/latex": [
       "\\begin{tabular}{r|llll}\n",
       " Name & Major & GPA & Salary\\\\\n",
       "\\hline\n",
       "\t Sean           & Actuarial Math & 3.98           & 65000         \\\\\n",
       "\t William        & Psychology     & 3.60           &    NA         \\\\\n",
       "\t Sophia         & Marketing      & 3.20           &    NA         \\\\\n",
       "\t John           & Marketing      & 2.50           & 50000         \\\\\n",
       "\t Joseph         & Finance        & 3.40           & 60000         \\\\\n",
       "\\end{tabular}\n"
      ],
      "text/markdown": [
       "\n",
       "Name | Major | GPA | Salary | \n",
       "|---|---|---|---|---|\n",
       "| Sean           | Actuarial Math | 3.98           | 65000          | \n",
       "| William        | Psychology     | 3.60           |    NA          | \n",
       "| Sophia         | Marketing      | 3.20           |    NA          | \n",
       "| John           | Marketing      | 2.50           | 50000          | \n",
       "| Joseph         | Finance        | 3.40           | 60000          | \n",
       "\n",
       "\n"
      ],
      "text/plain": [
       "  Name    Major          GPA  Salary\n",
       "1 Sean    Actuarial Math 3.98 65000 \n",
       "2 William Psychology     3.60    NA \n",
       "3 Sophia  Marketing      3.20    NA \n",
       "4 John    Marketing      2.50 50000 \n",
       "5 Joseph  Finance        3.40 60000 "
      ]
     },
     "metadata": {},
     "output_type": "display_data"
    },
    {
     "data": {
      "text/html": [
       "<table>\n",
       "<thead><tr><th scope=col>Name</th><th scope=col>Major</th><th scope=col>GPA</th><th scope=col>Salary</th></tr></thead>\n",
       "<tbody>\n",
       "\t<tr><td>Sean          </td><td>Actuarial Math</td><td>3.98          </td><td>65000         </td></tr>\n",
       "\t<tr><td>Taylor        </td><td>English       </td><td>  NA          </td><td>40000         </td></tr>\n",
       "\t<tr><td>Ellie         </td><td>History       </td><td>  NA          </td><td>45000         </td></tr>\n",
       "\t<tr><td>John          </td><td>Marketing     </td><td>2.50          </td><td>50000         </td></tr>\n",
       "\t<tr><td>Joseph        </td><td>Finance       </td><td>3.40          </td><td>60000         </td></tr>\n",
       "</tbody>\n",
       "</table>\n"
      ],
      "text/latex": [
       "\\begin{tabular}{r|llll}\n",
       " Name & Major & GPA & Salary\\\\\n",
       "\\hline\n",
       "\t Sean           & Actuarial Math & 3.98           & 65000         \\\\\n",
       "\t Taylor         & English        &   NA           & 40000         \\\\\n",
       "\t Ellie          & History        &   NA           & 45000         \\\\\n",
       "\t John           & Marketing      & 2.50           & 50000         \\\\\n",
       "\t Joseph         & Finance        & 3.40           & 60000         \\\\\n",
       "\\end{tabular}\n"
      ],
      "text/markdown": [
       "\n",
       "Name | Major | GPA | Salary | \n",
       "|---|---|---|---|---|\n",
       "| Sean           | Actuarial Math | 3.98           | 65000          | \n",
       "| Taylor         | English        |   NA           | 40000          | \n",
       "| Ellie          | History        |   NA           | 45000          | \n",
       "| John           | Marketing      | 2.50           | 50000          | \n",
       "| Joseph         | Finance        | 3.40           | 60000          | \n",
       "\n",
       "\n"
      ],
      "text/plain": [
       "  Name   Major          GPA  Salary\n",
       "1 Sean   Actuarial Math 3.98 65000 \n",
       "2 Taylor English          NA 40000 \n",
       "3 Ellie  History          NA 45000 \n",
       "4 John   Marketing      2.50 50000 \n",
       "5 Joseph Finance        3.40 60000 "
      ]
     },
     "metadata": {},
     "output_type": "display_data"
    },
    {
     "data": {
      "text/html": [
       "<table>\n",
       "<thead><tr><th scope=col>Name</th><th scope=col>Major</th><th scope=col>GPA</th><th scope=col>Salary</th></tr></thead>\n",
       "<tbody>\n",
       "\t<tr><td>Sean          </td><td>Actuarial Math</td><td>3.98          </td><td>65000         </td></tr>\n",
       "\t<tr><td>John          </td><td>Marketing     </td><td>2.50          </td><td>50000         </td></tr>\n",
       "\t<tr><td>Joseph        </td><td>Finance       </td><td>3.40          </td><td>60000         </td></tr>\n",
       "</tbody>\n",
       "</table>\n"
      ],
      "text/latex": [
       "\\begin{tabular}{r|llll}\n",
       " Name & Major & GPA & Salary\\\\\n",
       "\\hline\n",
       "\t Sean           & Actuarial Math & 3.98           & 65000         \\\\\n",
       "\t John           & Marketing      & 2.50           & 50000         \\\\\n",
       "\t Joseph         & Finance        & 3.40           & 60000         \\\\\n",
       "\\end{tabular}\n"
      ],
      "text/markdown": [
       "\n",
       "Name | Major | GPA | Salary | \n",
       "|---|---|---|\n",
       "| Sean           | Actuarial Math | 3.98           | 65000          | \n",
       "| John           | Marketing      | 2.50           | 50000          | \n",
       "| Joseph         | Finance        | 3.40           | 60000          | \n",
       "\n",
       "\n"
      ],
      "text/plain": [
       "  Name   Major          GPA  Salary\n",
       "1 Sean   Actuarial Math 3.98 65000 \n",
       "2 John   Marketing      2.50 50000 \n",
       "3 Joseph Finance        3.40 60000 "
      ]
     },
     "metadata": {},
     "output_type": "display_data"
    },
    {
     "data": {
      "text/html": [
       "<table>\n",
       "<thead><tr><th scope=col>Name</th><th scope=col>Major</th><th scope=col>GPA</th><th scope=col>Salary</th></tr></thead>\n",
       "<tbody>\n",
       "\t<tr><td>Sean          </td><td>Actuarial Math</td><td>3.98          </td><td>65000         </td></tr>\n",
       "\t<tr><td>William       </td><td>Psychology    </td><td>3.60          </td><td>   NA         </td></tr>\n",
       "\t<tr><td>Sophia        </td><td>Marketing     </td><td>3.20          </td><td>   NA         </td></tr>\n",
       "\t<tr><td>John          </td><td>Marketing     </td><td>2.50          </td><td>50000         </td></tr>\n",
       "\t<tr><td>Joseph        </td><td>Finance       </td><td>3.40          </td><td>60000         </td></tr>\n",
       "\t<tr><td>Taylor        </td><td>English       </td><td>  NA          </td><td>40000         </td></tr>\n",
       "\t<tr><td>Ellie         </td><td>History       </td><td>  NA          </td><td>45000         </td></tr>\n",
       "</tbody>\n",
       "</table>\n"
      ],
      "text/latex": [
       "\\begin{tabular}{r|llll}\n",
       " Name & Major & GPA & Salary\\\\\n",
       "\\hline\n",
       "\t Sean           & Actuarial Math & 3.98           & 65000         \\\\\n",
       "\t William        & Psychology     & 3.60           &    NA         \\\\\n",
       "\t Sophia         & Marketing      & 3.20           &    NA         \\\\\n",
       "\t John           & Marketing      & 2.50           & 50000         \\\\\n",
       "\t Joseph         & Finance        & 3.40           & 60000         \\\\\n",
       "\t Taylor         & English        &   NA           & 40000         \\\\\n",
       "\t Ellie          & History        &   NA           & 45000         \\\\\n",
       "\\end{tabular}\n"
      ],
      "text/markdown": [
       "\n",
       "Name | Major | GPA | Salary | \n",
       "|---|---|---|---|---|---|---|\n",
       "| Sean           | Actuarial Math | 3.98           | 65000          | \n",
       "| William        | Psychology     | 3.60           |    NA          | \n",
       "| Sophia         | Marketing      | 3.20           |    NA          | \n",
       "| John           | Marketing      | 2.50           | 50000          | \n",
       "| Joseph         | Finance        | 3.40           | 60000          | \n",
       "| Taylor         | English        |   NA           | 40000          | \n",
       "| Ellie          | History        |   NA           | 45000          | \n",
       "\n",
       "\n"
      ],
      "text/plain": [
       "  Name    Major          GPA  Salary\n",
       "1 Sean    Actuarial Math 3.98 65000 \n",
       "2 William Psychology     3.60    NA \n",
       "3 Sophia  Marketing      3.20    NA \n",
       "4 John    Marketing      2.50 50000 \n",
       "5 Joseph  Finance        3.40 60000 \n",
       "6 Taylor  English          NA 40000 \n",
       "7 Ellie   History          NA 45000 "
      ]
     },
     "metadata": {},
     "output_type": "display_data"
    },
    {
     "data": {
      "text/html": [
       "<table>\n",
       "<thead><tr><th scope=col>Name</th><th scope=col>Major</th><th scope=col>GPA</th></tr></thead>\n",
       "<tbody>\n",
       "\t<tr><td>Sean          </td><td>Actuarial Math</td><td>3.98          </td></tr>\n",
       "\t<tr><td>John          </td><td>Marketing     </td><td>2.50          </td></tr>\n",
       "\t<tr><td>Joseph        </td><td>Finance       </td><td>3.40          </td></tr>\n",
       "</tbody>\n",
       "</table>\n"
      ],
      "text/latex": [
       "\\begin{tabular}{r|lll}\n",
       " Name & Major & GPA\\\\\n",
       "\\hline\n",
       "\t Sean           & Actuarial Math & 3.98          \\\\\n",
       "\t John           & Marketing      & 2.50          \\\\\n",
       "\t Joseph         & Finance        & 3.40          \\\\\n",
       "\\end{tabular}\n"
      ],
      "text/markdown": [
       "\n",
       "Name | Major | GPA | \n",
       "|---|---|---|\n",
       "| Sean           | Actuarial Math | 3.98           | \n",
       "| John           | Marketing      | 2.50           | \n",
       "| Joseph         | Finance        | 3.40           | \n",
       "\n",
       "\n"
      ],
      "text/plain": [
       "  Name   Major          GPA \n",
       "1 Sean   Actuarial Math 3.98\n",
       "2 John   Marketing      2.50\n",
       "3 Joseph Finance        3.40"
      ]
     },
     "metadata": {},
     "output_type": "display_data"
    },
    {
     "data": {
      "text/html": [
       "<table>\n",
       "<thead><tr><th scope=col>Name</th><th scope=col>Major</th><th scope=col>GPA</th></tr></thead>\n",
       "<tbody>\n",
       "\t<tr><td>William   </td><td>Psychology</td><td>3.6       </td></tr>\n",
       "\t<tr><td>Sophia    </td><td>Marketing </td><td>3.2       </td></tr>\n",
       "</tbody>\n",
       "</table>\n"
      ],
      "text/latex": [
       "\\begin{tabular}{r|lll}\n",
       " Name & Major & GPA\\\\\n",
       "\\hline\n",
       "\t William    & Psychology & 3.6       \\\\\n",
       "\t Sophia     & Marketing  & 3.2       \\\\\n",
       "\\end{tabular}\n"
      ],
      "text/markdown": [
       "\n",
       "Name | Major | GPA | \n",
       "|---|---|\n",
       "| William    | Psychology | 3.6        | \n",
       "| Sophia     | Marketing  | 3.2        | \n",
       "\n",
       "\n"
      ],
      "text/plain": [
       "  Name    Major      GPA\n",
       "1 William Psychology 3.6\n",
       "2 Sophia  Marketing  3.2"
      ]
     },
     "metadata": {},
     "output_type": "display_data"
    }
   ],
   "source": [
    "library(tidyr)\n",
    "library(dplyr)\n",
    "\n",
    "wide = data.frame(Student = c(\"Sean\", \"Taylor\", \"Ellie\", \"John\"),Test1 = c(.84,.9,.8,.95),\n",
    "                  Test2 = c(.95,.88,.7,.87), Test3 = c(.9, .94, .8, .98))\n",
    "\n",
    "long = gather(wide, Test1, Test2, Test3, key = 'Test', value = 'Grade')\n",
    "\n",
    "\n",
    "spread(long, key = 'Student', value = 'Grade')\n",
    "\n",
    "\n",
    "\n",
    "d1 = data_frame(Name = c(\"Sean\", \"William\",\"Sophia\", \"John\", \"Joseph\"), \n",
    "                Major = c(\"Actuarial Math\", \"Psychology\", \"Marketing\", \"Marketing\", \"Finance\"),\n",
    "                GPA = c(3.98,3.6,3.2,2.5,3.4))\n",
    "\n",
    "d2 = data_frame(Name = c(\"Sean\", \"Taylor\",\"Ellie\", \"John\", \"Joseph\"), \n",
    "                Major = c(\"Actuarial Math\", \"English\", \"History\", \"Marketing\", \"Finance\"),\n",
    "                Salary = c(65000,40000,45000,50000,60000))\n",
    "\n",
    "left_join(d1,d2, by = \"Name\")\n",
    "right_join(d1,d2, by = \"Name\")\n",
    "inner_join(d1,d2, by = \"Name\")\n",
    "full_join(d1,d2, by = \"Name\")\n",
    "semi_join(d1,d2, by = \"Name\")\n",
    "anti_join(d1,d2, by = \"Name\")\n",
    "\n",
    "left_join(d1,d2, by = c(\"Name\", \"Major\"))\n",
    "right_join(d1,d2, by = c(\"Name\", \"Major\"))\n",
    "inner_join(d1,d2, by = c(\"Name\", \"Major\"))\n",
    "full_join(d1,d2, by = c(\"Name\", \"Major\"))\n",
    "semi_join(d1,d2, by = c(\"Name\", \"Major\"))\n",
    "anti_join(d1,d2, by = c(\"Name\", \"Major\"))\n",
    "\n"
   ]
  },
  {
   "cell_type": "code",
   "execution_count": null,
   "metadata": {},
   "outputs": [],
   "source": []
  }
 ],
 "metadata": {
  "kernelspec": {
   "display_name": "R",
   "language": "R",
   "name": "ir"
  },
  "language_info": {
   "codemirror_mode": "r",
   "file_extension": ".r",
   "mimetype": "text/x-r-source",
   "name": "R",
   "pygments_lexer": "r",
   "version": "3.5.1"
  }
 },
 "nbformat": 4,
 "nbformat_minor": 2
}
