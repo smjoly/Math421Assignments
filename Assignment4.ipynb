{
 "cells": [
  {
   "cell_type": "code",
   "execution_count": 1,
   "metadata": {},
   "outputs": [
    {
     "data": {
      "text/html": [
       "29"
      ],
      "text/latex": [
       "29"
      ],
      "text/markdown": [
       "29"
      ],
      "text/plain": [
       "[1] 29"
      ]
     },
     "metadata": {},
     "output_type": "display_data"
    },
    {
     "data": {
      "text/html": [
       "120"
      ],
      "text/latex": [
       "120"
      ],
      "text/markdown": [
       "120"
      ],
      "text/plain": [
       "[1] 120"
      ]
     },
     "metadata": {},
     "output_type": "display_data"
    },
    {
     "data": {
      "text/html": [
       "<ol class=list-inline>\n",
       "\t<li>1</li>\n",
       "\t<li>3</li>\n",
       "\t<li>5</li>\n",
       "\t<li>7</li>\n",
       "</ol>\n"
      ],
      "text/latex": [
       "\\begin{enumerate*}\n",
       "\\item 1\n",
       "\\item 3\n",
       "\\item 5\n",
       "\\item 7\n",
       "\\end{enumerate*}\n"
      ],
      "text/markdown": [
       "1. 1\n",
       "2. 3\n",
       "3. 5\n",
       "4. 7\n",
       "\n",
       "\n"
      ],
      "text/plain": [
       "[1] 1 3 5 7"
      ]
     },
     "metadata": {},
     "output_type": "display_data"
    },
    {
     "data": {
      "text/html": [
       "<ol class=list-inline>\n",
       "\t<li>2</li>\n",
       "\t<li>5</li>\n",
       "\t<li>5.66666666666667</li>\n",
       "\t<li>10</li>\n",
       "</ol>\n"
      ],
      "text/latex": [
       "\\begin{enumerate*}\n",
       "\\item 2\n",
       "\\item 5\n",
       "\\item 5.66666666666667\n",
       "\\item 10\n",
       "\\end{enumerate*}\n"
      ],
      "text/markdown": [
       "1. 2\n",
       "2. 5\n",
       "3. 5.66666666666667\n",
       "4. 10\n",
       "\n",
       "\n"
      ],
      "text/plain": [
       "[1]  2.000000  5.000000  5.666667 10.000000"
      ]
     },
     "metadata": {},
     "output_type": "display_data"
    },
    {
     "data": {
      "text/html": [
       "0"
      ],
      "text/latex": [
       "0"
      ],
      "text/markdown": [
       "0"
      ],
      "text/plain": [
       "[1] 0"
      ]
     },
     "metadata": {},
     "output_type": "display_data"
    },
    {
     "data": {},
     "metadata": {},
     "output_type": "display_data"
    },
    {
     "data": {},
     "metadata": {},
     "output_type": "display_data"
    },
    {
     "data": {
      "image/png": "[encoded data removed]",
      "text/plain": [
       "plot without title"
      ]
     },
     "metadata": {},
     "output_type": "display_data",
     "source": "R display func"
    },
    {
     "data": {
      "image/png": "[encoded data removed]",
      "text/plain": [
       "plot without title"
      ]
     },
     "metadata": {},
     "output_type": "display_data",
     "source": "R display func"
    }
   ],
   "source": [
    "knitr::opts_chunk$set(echo = TRUE)\n",
    "titanic = read.csv(\"titanic.csv\")\n",
    "library(ggplot2)\n",
    "titanic$Pclass = factor(titanic$Pclass)\n",
    "titanic$Survived = factor(titanic$Survived)\n",
    "\n",
    "###1. Write a function: input a number x and return x^2+3x+1\n",
    "quadraticf = function(x)\n",
    "{\n",
    " return(x^2+3*x+1)\n",
    "}\n",
    "quadraticf(4)\n",
    "\n",
    "###2.\tWrite a function: input a vector and return the product of all the entries in the vector\n",
    "\n",
    "\n",
    "vectorproduct = function(string)\n",
    "{\n",
    "  prod(string)\n",
    "}\n",
    "vectorproduct(c(2,3,4,5))\n",
    "\n",
    "###3.\tWrite a function: input a vector v and a number n and return a vector with its missing data being replaced by n\n",
    "\n",
    "vectorreplace = function(vect,num)\n",
    "{\n",
    " vect[is.na(vect)] = num\n",
    " return(vect)\n",
    "}\n",
    "vectorreplace(c(1,3,5,NA),7)\n",
    "\n",
    "\n",
    "###4.\tWrite a function: input a numeric vector and return a vector with its missing data being replaced by the mean of the vector\n",
    "meanreplace = function (numvect)\n",
    "{\n",
    "  numvect[is.na(numvect)] = mean(numvect, na.rm = TRUE)\n",
    "  return(numvect)\n",
    "}\n",
    "meanreplace(c(2,5,NA,10))\n",
    "\n",
    "\n",
    "###5.\tWrite a function: input a data frame and return a data frame with numeric missing values being replaced by the mean of the corresponding column.  Check your function on the titanic data\n",
    "\n",
    "RowHasNA = function(x)\n",
    "{\n",
    "  for(i in 1:ncol(x))\n",
    "  {\n",
    "    if(is.numeric(x[,i])) {\n",
    "      x[,i][is.na(x[,i])] = mean(x[,i], na.rm=TRUE)\n",
    "      }\n",
    "    }\n",
    "  return(x)\n",
    "}\n",
    "t1 = RowHasNA(titanic) \n",
    "sum(is.na(t1))\n",
    "\n",
    "###6.\tWrite a function that plots a bar chart of an input categorical variable.  Check your function on the titanic data\n",
    "\n",
    "barchart = function (d, i)\n",
    "{\n",
    "  ggplot(d) + geom_bar(mapping = aes(x = d[,i]), position = \"dodge\")\n",
    "  \n",
    "}\n",
    "barchart(titanic, 5)\n",
    "\n",
    "###7.\tWrite a function that plots bar chart of two input categorical variables.  Check your function on the titanic data\n",
    "\n",
    "barchart = function (d, i, j)\n",
    "{\n",
    "  ggplot(d) + geom_bar(mapping = aes(x = d[,i], fill = d[,j]), position = \"dodge\")\n",
    "  \n",
    "}\n",
    "barchart(titanic, 2, 5)\n",
    "\n"
   ]
  },
  {
   "cell_type": "code",
   "execution_count": null,
   "metadata": {},
   "outputs": [],
   "source": []
  }
 ],
 "metadata": {
  "kernelspec": {
   "display_name": "R",
   "language": "R",
   "name": "ir"
  },
  "language_info": {
   "codemirror_mode": "r",
   "file_extension": ".r",
   "mimetype": "text/x-r-source",
   "name": "R",
   "pygments_lexer": "r",
   "version": "3.5.1"
  }
 },
 "nbformat": 4,
 "nbformat_minor": 2
}
