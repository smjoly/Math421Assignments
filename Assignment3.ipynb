{
 "cells": [
  {
   "cell_type": "code",
   "execution_count": 4,
   "metadata": {},
   "outputs": [],
   "source": [
    "titanic = read.csv(\"titanic.csv\")\n",
    "library(ggplot2)\n",
    "titanic$Pclass = factor(titanic$Pclass)\n",
    "titanic$Survived = factor(titanic$Survived)"
   ]
  },
  {
   "cell_type": "markdown",
   "metadata": {},
   "source": [
    "#1.\tCheck if there is any missing data"
   ]
  },
  {
   "cell_type": "code",
   "execution_count": 5,
   "metadata": {},
   "outputs": [
    {
     "data": {
      "text/html": [
       "177"
      ],
      "text/latex": [
       "177"
      ],
      "text/markdown": [
       "177"
      ],
      "text/plain": [
       "[1] 177"
      ]
     },
     "metadata": {},
     "output_type": "display_data"
    },
    {
     "data": {
      "text/html": [
       "177"
      ],
      "text/latex": [
       "177"
      ],
      "text/markdown": [
       "177"
      ],
      "text/plain": [
       "[1] 177"
      ]
     },
     "metadata": {},
     "output_type": "display_data"
    }
   ],
   "source": [
    "sum(is.na(titanic))\n",
    "sum(is.na(titanic$Age))"
   ]
  },
  {
   "cell_type": "markdown",
   "metadata": {},
   "source": [
    "#2.\tReplace missing values by the variable's average  for numeric variables\n",
    "#3.\tRemove the rows that have missing categorical values "
   ]
  },
  {
   "cell_type": "code",
   "execution_count": 6,
   "metadata": {},
   "outputs": [],
   "source": [
    "titanic[is.na(titanic$Age),]$Age = mean(titanic$Age, na.rm=TRUE)"
   ]
  },
  {
   "cell_type": "markdown",
   "metadata": {},
   "source": [
    "#4.\tRemove columns: names, ID and unnecessary columns "
   ]
  },
  {
   "cell_type": "code",
   "execution_count": 7,
   "metadata": {},
   "outputs": [],
   "source": [
    "titanic$PassengerId = NULL\n",
    "titanic$Name = NULL\n",
    "titanic$Ticket = NULL\n",
    "titanic$Cabin = NULL"
   ]
  },
  {
   "cell_type": "markdown",
   "metadata": {},
   "source": [
    "#5.\tCalculate the mean age"
   ]
  },
  {
   "cell_type": "code",
   "execution_count": 8,
   "metadata": {},
   "outputs": [
    {
     "data": {
      "text/html": [
       "29.6991176470588"
      ],
      "text/latex": [
       "29.6991176470588"
      ],
      "text/markdown": [
       "29.6991176470588"
      ],
      "text/plain": [
       "[1] 29.69912"
      ]
     },
     "metadata": {},
     "output_type": "display_data"
    }
   ],
   "source": [
    "mean(titanic$Age)"
   ]
  },
  {
   "cell_type": "markdown",
   "metadata": {},
   "source": [
    "#6.\tCalculate the mean age of female passengers"
   ]
  },
  {
   "cell_type": "code",
   "execution_count": 9,
   "metadata": {},
   "outputs": [
    {
     "data": {
      "text/html": [
       "28.2167300487074"
      ],
      "text/latex": [
       "28.2167300487074"
      ],
      "text/markdown": [
       "28.2167300487074"
      ],
      "text/plain": [
       "[1] 28.21673"
      ]
     },
     "metadata": {},
     "output_type": "display_data"
    }
   ],
   "source": [
    "mean(titanic[titanic$Sex == \"female\",]$Age)"
   ]
  },
  {
   "cell_type": "markdown",
   "metadata": {},
   "source": [
    "#7.\tCalculate the median fare of the passengers in Class 1"
   ]
  },
  {
   "cell_type": "code",
   "execution_count": 10,
   "metadata": {},
   "outputs": [
    {
     "data": {
      "text/html": [
       "60.2875"
      ],
      "text/latex": [
       "60.2875"
      ],
      "text/markdown": [
       "60.2875"
      ],
      "text/plain": [
       "[1] 60.2875"
      ]
     },
     "metadata": {},
     "output_type": "display_data"
    }
   ],
   "source": [
    "median(titanic[titanic$Pclass == 1,]$Fare)"
   ]
  },
  {
   "cell_type": "markdown",
   "metadata": {},
   "source": [
    "#8.\tCalculate the median fare of the female passengers that are not in Class 1"
   ]
  },
  {
   "cell_type": "code",
   "execution_count": 11,
   "metadata": {},
   "outputs": [
    {
     "data": {
      "text/html": [
       "14.45625"
      ],
      "text/latex": [
       "14.45625"
      ],
      "text/markdown": [
       "14.45625"
      ],
      "text/plain": [
       "[1] 14.45625"
      ]
     },
     "metadata": {},
     "output_type": "display_data"
    }
   ],
   "source": [
    "median(titanic[(titanic$Pclass != 1) & (titanic$Sex == \"female\"),]$Fare)"
   ]
  },
  {
   "cell_type": "markdown",
   "metadata": {},
   "source": [
    "#9.\tCalculate the median age of survived passengers who are female and Class 1 or Class 2, "
   ]
  },
  {
   "cell_type": "code",
   "execution_count": 12,
   "metadata": {},
   "outputs": [
    {
     "data": {
      "text/html": [
       "30"
      ],
      "text/latex": [
       "30"
      ],
      "text/markdown": [
       "30"
      ],
      "text/plain": [
       "[1] 30"
      ]
     },
     "metadata": {},
     "output_type": "display_data"
    }
   ],
   "source": [
    "median(titanic[(titanic$Pclass != 3) & (titanic$Survived == 1) & \n",
    "                 (titanic$Sex == \"female\"),]$Age)"
   ]
  },
  {
   "cell_type": "markdown",
   "metadata": {},
   "source": [
    "#10.\tCalculate the mean fare of female teenagers survived passengers"
   ]
  },
  {
   "cell_type": "code",
   "execution_count": 13,
   "metadata": {},
   "outputs": [
    {
     "data": {
      "text/html": [
       "46.6062"
      ],
      "text/latex": [
       "46.6062"
      ],
      "text/markdown": [
       "46.6062"
      ],
      "text/plain": [
       "[1] 46.6062"
      ]
     },
     "metadata": {},
     "output_type": "display_data"
    }
   ],
   "source": [
    "mean(titanic[(titanic$Survived == 1) & (titanic$Age >= 13) & (titanic$Age <= 19),]$Fare)"
   ]
  },
  {
   "cell_type": "markdown",
   "metadata": {},
   "source": [
    "#11.\tCalculate the mean fare of female teenagers survived passengers for each class"
   ]
  },
  {
   "cell_type": "code",
   "execution_count": 14,
   "metadata": {},
   "outputs": [
    {
     "data": {
      "text/html": [
       "107.779464285714"
      ],
      "text/latex": [
       "107.779464285714"
      ],
      "text/markdown": [
       "107.779464285714"
      ],
      "text/plain": [
       "[1] 107.7795"
      ]
     },
     "metadata": {},
     "output_type": "display_data"
    },
    {
     "data": {
      "text/html": [
       "18.9523111111111"
      ],
      "text/latex": [
       "18.9523111111111"
      ],
      "text/markdown": [
       "18.9523111111111"
      ],
      "text/plain": [
       "[1] 18.95231"
      ]
     },
     "metadata": {},
     "output_type": "display_data"
    },
    {
     "data": {
      "text/html": [
       "8.63490625"
      ],
      "text/latex": [
       "8.63490625"
      ],
      "text/markdown": [
       "8.63490625"
      ],
      "text/plain": [
       "[1] 8.634906"
      ]
     },
     "metadata": {},
     "output_type": "display_data"
    }
   ],
   "source": [
    "mean(titanic[(titanic$Survived == 1) & (titanic$Age >= 13) & (titanic$Age <= 19) & (titanic$Pclass == 1),]$Fare)\n",
    "mean(titanic[(titanic$Survived == 1) & (titanic$Age >= 13) & (titanic$Age <= 19) & (titanic$Pclass == 2),]$Fare)\n",
    "mean(titanic[(titanic$Survived == 1) & (titanic$Age >= 13) & (titanic$Age <= 19) & (titanic$Pclass == 3),]$Fare)"
   ]
  },
  {
   "cell_type": "markdown",
   "metadata": {},
   "source": [
    "#12.\tCalculate the ratio of Survived and not Survived for passengers who are who pays more than the average fare"
   ]
  },
  {
   "cell_type": "code",
   "execution_count": 15,
   "metadata": {},
   "outputs": [
    {
     "data": {
      "text/html": [
       "1.48235294117647"
      ],
      "text/latex": [
       "1.48235294117647"
      ],
      "text/markdown": [
       "1.48235294117647"
      ],
      "text/plain": [
       "[1] 1.482353"
      ]
     },
     "metadata": {},
     "output_type": "display_data"
    }
   ],
   "source": [
    "sum(titanic[titanic$Fare > mean(titanic$Fare),]$Survived == 1)/ sum(titanic[titanic$Fare > mean(titanic$Fare),]$Survived == 0)"
   ]
  },
  {
   "cell_type": "markdown",
   "metadata": {},
   "source": [
    "#13.\tAdd column that standardizes the fare (subtract the mean and divide by standard deviation) and name it sfare"
   ]
  },
  {
   "cell_type": "code",
   "execution_count": 16,
   "metadata": {},
   "outputs": [],
   "source": [
    "titanic$sfare = (titanic$Fare-mean(titanic$Fare))/sd(titanic$Fare)"
   ]
  },
  {
   "cell_type": "markdown",
   "metadata": {},
   "source": [
    "#14.\tPlot the bar chart of two variables: Sex and Survived for passengers younger than the average age"
   ]
  },
  {
   "cell_type": "code",
   "execution_count": 17,
   "metadata": {},
   "outputs": [
    {
     "data": {},
     "metadata": {},
     "output_type": "display_data"
    },
    {
     "data": {},
     "metadata": {},
     "output_type": "display_data"
    },
    {
     "data": {
      "image/png": "[encoded data removed]",
      "text/plain": [
       "plot without title"
      ]
     },
     "metadata": {},
     "output_type": "display_data",
     "source": "R display func"
    },
    {
     "data": {},
     "metadata": {},
     "output_type": "display_data"
    },
    {
     "data": {
      "image/png": "[encoded data removed]",
      "text/plain": [
       "plot without title"
      ]
     },
     "metadata": {},
     "output_type": "display_data",
     "source": "R display func"
    },
    {
     "data": {},
     "metadata": {},
     "output_type": "display_data"
    },
    {
     "data": {
      "image/png": "[encoded data removed]",
      "text/plain": [
       "plot without title"
      ]
     },
     "metadata": {},
     "output_type": "display_data",
     "source": "R display func"
    },
    {
     "data": {},
     "metadata": {},
     "output_type": "display_data"
    },
    {
     "data": {
      "image/png": "[encoded data removed]",
      "text/plain": [
       "plot without title"
      ]
     },
     "metadata": {},
     "output_type": "display_data",
     "source": "R display func"
    },
    {
     "data": {
      "image/png": "[encoded data removed]",
      "text/plain": [
       "plot without title"
      ]
     },
     "metadata": {},
     "output_type": "display_data",
     "source": "R display func"
    }
   ],
   "source": [
    "ggplot(titanic) + \n",
    "  geom_bar(data = titanic[titanic$Age < mean(titanic$Age),], mapping = aes(x = Survived, fill = Sex), position = \"dodge\")\n",
    "\n",
    "##15.\tPlot the density of age of passengers who survived and pay more than the average fare\n",
    "ggplot(titanic) + \n",
    "  geom_density(data = titanic[(titanic$Fare > mean(titanic$Fare)) \n",
    "              & (titanic$Survived == 1),], mapping = aes(x = Age))\n",
    "\n",
    "##16.\tPlot two density curves in one graph of passengers embarked in Southampton and Queenstown\n",
    "ggplot(titanic) + geom_density(data = titanic[(titanic$Embarked == \"S\") | (titanic$Embarked == \"Q\"),], mapping = aes(x = Age, color = Embarked))\n",
    "\n",
    "##17.\tAdd categorical variable named \"cfare\" that takes value \"cheap\" for passengers paying less the average fare and takes value \"expensive\" for passengers paying more than the average fare. \n",
    "titanic$cfare[titanic$Fare<mean(titanic$Fare)] <- \"cheap\" \n",
    "titanic$cfare[titanic$Fare>mean(titanic$Fare)] <- \"expensive\"\n",
    "\n",
    "##18.\tAdd categorical variable named \"cage\" that takes value 0 for age 0-10, 1 for age 10-20, 2 for age 20-30, and so on\n",
    "titanic$cage[titanic$Age<=10] <- \"0-10\"\n",
    "titanic$cage[titanic$Age>10 & titanic$Age<=20] <- \"11-20\"\n",
    "titanic$cage[titanic$Age>20 & titanic$Age<=30] <- \"21-30\"\n",
    "titanic$cage[titanic$Age>30 & titanic$Age<=40] <- \"31-40\"\n",
    "titanic$cage[titanic$Age>40 & titanic$Age<=50] <- \"41-50\"\n",
    "titanic$cage[titanic$Age>50 & titanic$Age<=60] <- \"51-60\"\n",
    "titanic$cage[titanic$Age>60 & titanic$Age<=70] <- \"61-70\"\n",
    "titanic$cage[titanic$Age>70 & titanic$Age<=80] <- \"71-80\"\n",
    "titanic$cage[titanic$Age>80 & titanic$Age<=90] <- \"81-90\"\n",
    "\n",
    "##19.\tPlot bar chart of two variables cage and Survived for passengers paying more than the average\n",
    "ggplot(titanic) + \n",
    "  geom_bar(data = titanic[titanic$cfare == \"expensive\",], mapping = aes(x = cage, fill = Survived))\n",
    "\n",
    "##20.\tSplit the bar chart in 19 by Pclass.\n",
    "ggplot(titanic) + \n",
    "  geom_bar(data = titanic[titanic$cfare == \"expensive\",], mapping = aes(x = cage, fill = Survived)) + facet_wrap(~ Pclass, nrow = 3)"
   ]
  },
  {
   "cell_type": "code",
   "execution_count": null,
   "metadata": {},
   "outputs": [],
   "source": []
  }
 ],
 "metadata": {
  "kernelspec": {
   "display_name": "R",
   "language": "R",
   "name": "ir"
  },
  "language_info": {
   "codemirror_mode": "r",
   "file_extension": ".r",
   "mimetype": "text/x-r-source",
   "name": "R",
   "pygments_lexer": "r",
   "version": "3.5.1"
  }
 },
 "nbformat": 4,
 "nbformat_minor": 2
}
