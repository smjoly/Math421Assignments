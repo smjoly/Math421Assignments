{
 "cells": [
  {
   "cell_type": "code",
   "execution_count": 2,
   "metadata": {},
   "outputs": [
    {
     "name": "stderr",
     "output_type": "stream",
     "text": [
      "Loading required package: lattice\n",
      "Loading required package: ggplot2\n"
     ]
    },
    {
     "data": {
      "text/html": [
       "<strong>Balanced Accuracy:</strong> 0.71195652173913"
      ],
      "text/latex": [
       "\\textbf{Balanced Accuracy:} 0.71195652173913"
      ],
      "text/markdown": [
       "**Balanced Accuracy:** 0.71195652173913"
      ],
      "text/plain": [
       "Balanced Accuracy \n",
       "        0.7119565 "
      ]
     },
     "metadata": {},
     "output_type": "display_data"
    },
    {
     "data": {
      "text/html": [
       "<strong>Balanced Accuracy:</strong> 0.818350450165136"
      ],
      "text/latex": [
       "\\textbf{Balanced Accuracy:} 0.818350450165136"
      ],
      "text/markdown": [
       "**Balanced Accuracy:** 0.818350450165136"
      ],
      "text/plain": [
       "Balanced Accuracy \n",
       "        0.8183505 "
      ]
     },
     "metadata": {},
     "output_type": "display_data"
    },
    {
     "data": {
      "text/html": [
       "<strong>Balanced Accuracy:</strong> 0.721785504230195"
      ],
      "text/latex": [
       "\\textbf{Balanced Accuracy:} 0.721785504230195"
      ],
      "text/markdown": [
       "**Balanced Accuracy:** 0.721785504230195"
      ],
      "text/plain": [
       "Balanced Accuracy \n",
       "        0.7217855 "
      ]
     },
     "metadata": {},
     "output_type": "display_data"
    }
   ],
   "source": [
    "df = read.csv('hmeq.csv')\n",
    "df = df[complete.cases(df),]\n",
    "df$BAD = as.factor(df$BAD)\n",
    "names(df)[1] = 'target'\n",
    "# Split 70% training, 30% testing\n",
    "library(caret)\n",
    "splitIndex <- createDataPartition(df$target, p = .70, list = FALSE, times = 1)\n",
    "train <- df[ splitIndex,]\n",
    "test <- df[-splitIndex,]\n",
    "\n",
    "library(ranger)\n",
    "model = ranger(target ~., data = train)\n",
    "pred  = predict(model, data = test)$predictions\n",
    "cm=confusionMatrix(pred, test$target, positive=\"1\")\n",
    "cm$byClass['Balanced Accuracy']\n",
    "\n",
    "train0 = train[train$target == '0',]\n",
    "train1 = train[train$target == '1',]\n",
    "n0 = nrow(train0)\n",
    "n1 = nrow(train1)\n",
    "train00 = train0[sample(1:n0, n1),]\n",
    "train_under = rbind(train00, train1)\n",
    "model_under = ranger(target~., data = train_under)\n",
    "pred2  = predict(model_under, data = test)$predictions\n",
    "cm_under=confusionMatrix(pred2, test$target, positive=\"1\")\n",
    "cm_under$byClass['Balanced Accuracy']\n",
    "\n",
    "train11 = train1[sample(1:n1, n0, replace = TRUE),]\n",
    "train_over = rbind(train0, train11)\n",
    "model_over = ranger(target~.,data = train_over)\n",
    "pred3 = predict(model_over, data = test)$predictions\n",
    "cm_over=confusionMatrix(pred3, test$target, positive=\"1\")\n",
    "cm_over$byClass['Balanced Accuracy']\n",
    "\n",
    "\n",
    "\n",
    "Quick_bal = function(df, method){\n",
    "\n",
    "  splitIndex <- createDataPartition(df$target, p = .70, list = FALSE, times = 1)\n",
    "  train <- df[ splitIndex,]\n",
    "  test <- df[-splitIndex,]\n",
    "\n",
    "  train0 = train[train$target == '0',]\n",
    "  train1 = train[train$target == '1',]\n",
    "  n0 = nrow(train0)\n",
    "  n1 = nrow(train1)\n",
    "\n",
    "  if(method == 1){\n",
    "    print(\"Undersampled\")\n",
    "    train00 = train0[sample(1:n0, n1),]\n",
    "    train_under = rbind(train00, train1)\n",
    "     }\n",
    "  else if(method == 2){\n",
    "    print(\"Oversampled\")\n",
    "    train11 = train1[sample(1:n1, n0, replace = TRUE),]\n",
    "    train_over = rbind(train0, train11)\n",
    "\n",
    "  } else{print(\"enter 1 for undersampled or 2 for oversampled\")}\n",
    "\n",
    "}\n",
    "\n",
    "Quick_model_bal = function(df){\n",
    "  splitIndex <- createDataPartition(df$target, p = .70, list = FALSE, times = 1)\n",
    "  train <- df[ splitIndex,]\n",
    "  test <- df[-splitIndex,]\n",
    "  train0 = train[train$target == '0',]\n",
    "  train1 = train[train$target == '1',]\n",
    "  n0 = nrow(train0)\n",
    "  n1 = nrow(train1)\n",
    "\n",
    "  print(\"Undersampled\")\n",
    "  train00 = train0[sample(1:n0, n1),]\n",
    "  train_under = rbind(train00, train1)\n",
    "  model_under = ranger(target~., data = train_under)\n",
    "  pred2  = predict(model_under, data = test)$predictions\n",
    "  cm_under=confusionMatrix(pred2, test$target, positive=\"1\")\n",
    "  print(cm_under$byClass['Balanced Accuracy'])\n",
    "\n",
    "  print(\"Oversampled\")\n",
    "  train11 = train1[sample(1:n1, n0, replace = TRUE),]\n",
    "  train_over = rbind(train0, train11)\n",
    "  model_over = ranger(target~.,data = train_over)\n",
    "  pred3 = predict(model_over, data = test)$predictions\n",
    "  cm_over=confusionMatrix(pred3, test$target, positive=\"1\")\n",
    "  print(cm_over$byClass['Balanced Accuracy'])\n",
    "\n",
    "\n",
    "}\n"
   ]
  },
  {
   "cell_type": "code",
   "execution_count": null,
   "metadata": {},
   "outputs": [],
   "source": []
  }
 ],
 "metadata": {
  "kernelspec": {
   "display_name": "R",
   "language": "R",
   "name": "ir"
  },
  "language_info": {
   "codemirror_mode": "r",
   "file_extension": ".r",
   "mimetype": "text/x-r-source",
   "name": "R",
   "pygments_lexer": "r",
   "version": "3.5.1"
  }
 },
 "nbformat": 4,
 "nbformat_minor": 2
}
