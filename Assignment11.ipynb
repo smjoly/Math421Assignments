{
 "cells": [
  {
   "cell_type": "code",
   "execution_count": 4,
   "metadata": {},
   "outputs": [
    {
     "name": "stderr",
     "output_type": "stream",
     "text": [
      "Loading required package: lattice\n",
      "Rattle: A free graphical interface for data science with R.\n",
      "Version 5.2.0 Copyright (c) 2006-2018 Togaware Pty Ltd.\n",
      "Type 'rattle()' to shake, rattle, and roll your data.\n",
      "\n",
      "Attaching package: 'ranger'\n",
      "\n",
      "The following object is masked from 'package:rattle':\n",
      "\n",
      "    importance\n",
      "\n",
      "Warning message in model.frame.default(Terms, newdata, na.action = na.action, xlev = object$lvls):\n",
      "\"variable 'target' is not a factor\"Warning message in preProcess.default(adultFixed2, method = c(\"center\", \"scale\")):\n",
      "\"These variables have zero variances: workclass..\""
     ]
    },
    {
     "data": {
      "text/html": [
       "<strong>Accuracy:</strong> 0.844389844389844"
      ],
      "text/latex": [
       "\\textbf{Accuracy:} 0.844389844389844"
      ],
      "text/markdown": [
       "**Accuracy:** 0.844389844389844"
      ],
      "text/plain": [
       " Accuracy \n",
       "0.8443898 "
      ]
     },
     "metadata": {},
     "output_type": "display_data"
    },
    {
     "data": {
      "text/html": [
       "<strong>Balanced Accuracy:</strong> 0.740742575347291"
      ],
      "text/latex": [
       "\\textbf{Balanced Accuracy:} 0.740742575347291"
      ],
      "text/markdown": [
       "**Balanced Accuracy:** 0.740742575347291"
      ],
      "text/plain": [
       "Balanced Accuracy \n",
       "        0.7407426 "
      ]
     },
     "metadata": {},
     "output_type": "display_data"
    },
    {
     "data": {
      "text/html": [
       "<strong>Accuracy:</strong> 0.85954135954136"
      ],
      "text/latex": [
       "\\textbf{Accuracy:} 0.85954135954136"
      ],
      "text/markdown": [
       "**Accuracy:** 0.85954135954136"
      ],
      "text/plain": [
       " Accuracy \n",
       "0.8595414 "
      ]
     },
     "metadata": {},
     "output_type": "display_data"
    },
    {
     "data": {
      "text/html": [
       "<strong>Balanced Accuracy:</strong> 0.77307613984105"
      ],
      "text/latex": [
       "\\textbf{Balanced Accuracy:} 0.77307613984105"
      ],
      "text/markdown": [
       "**Balanced Accuracy:** 0.77307613984105"
      ],
      "text/plain": [
       "Balanced Accuracy \n",
       "        0.7730761 "
      ]
     },
     "metadata": {},
     "output_type": "display_data"
    },
    {
     "name": "stderr",
     "output_type": "stream",
     "text": [
      "Warning message in model.frame.default(Terms, newdata, na.action = na.action, xlev = object$lvls):\n",
      "\"variable 'target' is not a factor\""
     ]
    },
    {
     "data": {
      "text/html": [
       "<strong>Accuracy:</strong> 0.844389844389844"
      ],
      "text/latex": [
       "\\textbf{Accuracy:} 0.844389844389844"
      ],
      "text/markdown": [
       "**Accuracy:** 0.844389844389844"
      ],
      "text/plain": [
       " Accuracy \n",
       "0.8443898 "
      ]
     },
     "metadata": {},
     "output_type": "display_data"
    },
    {
     "data": {
      "text/html": [
       "<strong>Balanced Accuracy:</strong> 0.740742575347291"
      ],
      "text/latex": [
       "\\textbf{Balanced Accuracy:} 0.740742575347291"
      ],
      "text/markdown": [
       "**Balanced Accuracy:** 0.740742575347291"
      ],
      "text/plain": [
       "Balanced Accuracy \n",
       "        0.7407426 "
      ]
     },
     "metadata": {},
     "output_type": "display_data"
    },
    {
     "data": {
      "text/html": [
       "<strong>Accuracy:</strong> 0.858619983619984"
      ],
      "text/latex": [
       "\\textbf{Accuracy:} 0.858619983619984"
      ],
      "text/markdown": [
       "**Accuracy:** 0.858619983619984"
      ],
      "text/plain": [
       "Accuracy \n",
       " 0.85862 "
      ]
     },
     "metadata": {},
     "output_type": "display_data"
    },
    {
     "data": {
      "text/html": [
       "<strong>Balanced Accuracy:</strong> 0.772033853994672"
      ],
      "text/latex": [
       "\\textbf{Balanced Accuracy:} 0.772033853994672"
      ],
      "text/markdown": [
       "**Balanced Accuracy:** 0.772033853994672"
      ],
      "text/plain": [
       "Balanced Accuracy \n",
       "        0.7720339 "
      ]
     },
     "metadata": {},
     "output_type": "display_data"
    },
    {
     "data": {
      "text/html": [
       "<strong>Accuracy:</strong> 0.844389844389844"
      ],
      "text/latex": [
       "\\textbf{Accuracy:} 0.844389844389844"
      ],
      "text/markdown": [
       "**Accuracy:** 0.844389844389844"
      ],
      "text/plain": [
       " Accuracy \n",
       "0.8443898 "
      ]
     },
     "metadata": {},
     "output_type": "display_data"
    },
    {
     "data": {
      "text/html": [
       "<strong>Balanced Accuracy:</strong> 0.743210350483235"
      ],
      "text/latex": [
       "\\textbf{Balanced Accuracy:} 0.743210350483235"
      ],
      "text/markdown": [
       "**Balanced Accuracy:** 0.743210350483235"
      ],
      "text/plain": [
       "Balanced Accuracy \n",
       "        0.7432104 "
      ]
     },
     "metadata": {},
     "output_type": "display_data"
    },
    {
     "data": {
      "text/html": [
       "<strong>Accuracy:</strong> 0.858927108927109"
      ],
      "text/latex": [
       "\\textbf{Accuracy:} 0.858927108927109"
      ],
      "text/markdown": [
       "**Accuracy:** 0.858927108927109"
      ],
      "text/plain": [
       " Accuracy \n",
       "0.8589271 "
      ]
     },
     "metadata": {},
     "output_type": "display_data"
    },
    {
     "data": {
      "text/html": [
       "<strong>Balanced Accuracy:</strong> 0.771510303150386"
      ],
      "text/latex": [
       "\\textbf{Balanced Accuracy:} 0.771510303150386"
      ],
      "text/markdown": [
       "**Balanced Accuracy:** 0.771510303150386"
      ],
      "text/plain": [
       "Balanced Accuracy \n",
       "        0.7715103 "
      ]
     },
     "metadata": {},
     "output_type": "display_data"
    },
    {
     "name": "stderr",
     "output_type": "stream",
     "text": [
      "Warning message in model.frame.default(Terms, newdata, na.action = na.action, xlev = object$lvls):\n",
      "\"variable 'target' is not a factor\"Warning message in preProcess.default(adultFixed2, method = c(\"center\", \"scale\")):\n",
      "\"These variables have zero variances: workclass.., occupation.., native_country..\""
     ]
    },
    {
     "data": {
      "text/html": [
       "<strong>Accuracy:</strong> 0.844389844389844"
      ],
      "text/latex": [
       "\\textbf{Accuracy:} 0.844389844389844"
      ],
      "text/markdown": [
       "**Accuracy:** 0.844389844389844"
      ],
      "text/plain": [
       " Accuracy \n",
       "0.8443898 "
      ]
     },
     "metadata": {},
     "output_type": "display_data"
    },
    {
     "data": {
      "text/html": [
       "<strong>Balanced Accuracy:</strong> 0.740742575347291"
      ],
      "text/latex": [
       "\\textbf{Balanced Accuracy:} 0.740742575347291"
      ],
      "text/markdown": [
       "**Balanced Accuracy:** 0.740742575347291"
      ],
      "text/plain": [
       "Balanced Accuracy \n",
       "        0.7407426 "
      ]
     },
     "metadata": {},
     "output_type": "display_data"
    },
    {
     "data": {
      "text/html": [
       "<strong>Accuracy:</strong> 0.85995085995086"
      ],
      "text/latex": [
       "\\textbf{Accuracy:} 0.85995085995086"
      ],
      "text/markdown": [
       "**Accuracy:** 0.85995085995086"
      ],
      "text/plain": [
       " Accuracy \n",
       "0.8599509 "
      ]
     },
     "metadata": {},
     "output_type": "display_data"
    },
    {
     "data": {
      "text/html": [
       "<strong>Balanced Accuracy:</strong> 0.776539418356339"
      ],
      "text/latex": [
       "\\textbf{Balanced Accuracy:} 0.776539418356339"
      ],
      "text/markdown": [
       "**Balanced Accuracy:** 0.776539418356339"
      ],
      "text/plain": [
       "Balanced Accuracy \n",
       "        0.7765394 "
      ]
     },
     "metadata": {},
     "output_type": "display_data"
    }
   ],
   "source": [
    "library(lattice)\n",
    "library(ggplot2)\n",
    "library(caret)\n",
    "library(rpart)\n",
    "library(rattle)\n",
    "library(mlbench)\n",
    "library(ranger)\n",
    "adult = read.csv(\"adult.csv\", header = FALSE)\n",
    "names(adult) = c(\"age\", \"workclass\", \"fnlwgt\", \"education\", \"education_num\", \"marital_status\",\n",
    "  \"occupation\", \"relationship\", \"race\", \"sex\", \"capital_gain\", \"capital_loss\",\n",
    "  \"hours_per_week\", \"native_country\", \"target\")\n",
    "\n",
    "\n",
    "\n",
    "#2-3. replace NA's\n",
    "for(i in 1:ncol(adult)){\n",
    "    adult[,i][adult[,i] == \"?\"] = NA\n",
    "    mode = levels(adult[,i])[which.max(table(adult[,i]))]\n",
    "    if(is.factor(adult[,i])){\n",
    "      adult[,i][is.na(adult[,i])] = mode\n",
    "    }\n",
    "}\n",
    "\n",
    "adultNAfix = preProcess(adult, method='medianImpute')\n",
    "adultFixed = predict(adultNAfix, newdata = adult)\n",
    "\n",
    "#4. Group factors greater than 10 categories into 5 categories\n",
    "#str(adultFixed)\n",
    "#education, occupation, & native_country are over 10 categories\n",
    "levels(adultFixed$education) = c(\"Gradeshool\",\"Gradeschool\",\"Gradeschool\", \"Gradeschool\",\n",
    "                                 \"Gradeshool\",\"Gradeshool\",\"Gradeshool\",\"Associates\",\n",
    "                                 \"Associates\", \"Bachelors\", \"Post_Grad\", \"HS+\", \"Post_Grad\",\n",
    "                                 \"Gradeschool\",\"HS+\", \"HS+\")\n",
    "levels(adultFixed$occupation) = c(\"Misc\", \"Business\", \"Protection\", \"Labor\", \"Business\",\n",
    "                                  \"Labor\", \"Labor\", \"Tech\", \"Misc\", \"Labor\", \"Misc\",\n",
    "                                  \"Protection\", \"Business\", \"Tech\", \"Labor\")\n",
    "levels(adultFixed$native_country) = c(\"NA\", \"AFR\", \"NA\", \"AS\", \"SA\", \"NA\", \"NA\", \"SA\", \"NA\",\n",
    "                                      \"EU\", \"EU\", \"EU\", \"EU\", \"NA\", \"NA\", \"EU\", \"NA\", \"AS\",\n",
    "                                      \"EU\", \"AS\", \"AS\", \"EU\", \"EU\", \"NA\", \"AS\", \"AS\", \"NA\",\n",
    "                                      \"NA\", \"NA\", \"SA\", \"AS\", \"EU\", \"EU\", \"NA\", \"EU\",\n",
    "                                      \"AS\", \"AS\", \"AS\", \"NA\", \"NA\", \"AS\", \"EU\")\n",
    "\n",
    "\n",
    "#5. Dummy encoding for categorical vars\n",
    "dummies_model <- dummyVars(target ~ ., data=adultFixed)\n",
    "adultFixed_mat <- predict(dummies_model, newdata = adultFixed)\n",
    "adultFixed2 <- data.frame(adultFixed_mat)\n",
    "adultFixed2$target <- adult$target\n",
    "\n",
    "#6. Scale and center data\n",
    "ScaleAndCenter <- preProcess(adultFixed2, method= c(\"center\", \"scale\"))\n",
    "FinalAdult <- predict(ScaleAndCenter, newdata = adultFixed2)\n",
    "\n",
    "##7. split data train:test 70:30, seeding = 2018, build decision tree and report accuracy\n",
    "set.seed(2018)\n",
    "splitIndex <- createDataPartition(FinalAdult$target, p = .70, list = FALSE, times = 1)\n",
    "train <- FinalAdult[ splitIndex,]\n",
    "test <- FinalAdult[-splitIndex,]\n",
    "model = rpart(target ~., data = train, method = \"class\")\n",
    "\n",
    "pred = predict(model, test, type = \"class\")\n",
    "\n",
    "cm = confusionMatrix(data = pred, reference = test$target, positive = \">50K\")\n",
    "cm$overall['Accuracy']\n",
    "cm$byClass['Balanced Accuracy']\n",
    "#8. Build random forest with ranger\n",
    "set.seed(2018)\n",
    "model2 = ranger(target ~., data = train)\n",
    "pred2  = predict(model2, data = test)$predictions\n",
    "cm2 = confusionMatrix(pred2, test$target, positive=\">50K\")\n",
    "cm2$overall['Accuracy']\n",
    "cm2$byClass['Balanced Accuracy']\n",
    "\n",
    "#9.& 10. not needed as there are no missing numeric vars\n",
    "\n",
    "#11. Redo 6 with scaling only on non encoded vars, knnimpute is scaling and centering\n",
    "adult = read.csv(\"adult.csv\", header = FALSE)\n",
    "names(adult) = c(\"age\", \"workclass\", \"fnlwgt\", \"education\", \"education_num\", \"marital_status\",\n",
    "  \"occupation\", \"relationship\", \"race\", \"sex\", \"capital_gain\", \"capital_loss\",\n",
    "  \"hours_per_week\", \"native_country\", \"target\")\n",
    "\n",
    "for(i in 1:ncol(adult)){\n",
    "    adult[,i][adult[,i] == \"?\"] = NA\n",
    "    mode = levels(adult[,i])[which.max(table(adult[,i]))]\n",
    "    if(is.factor(adult[,i])){\n",
    "      adult[,i][is.na(adult[,i])] = mode\n",
    "    }\n",
    "    }\n",
    "\n",
    "adultNAfix = preProcess(adult, method='knnImpute')\n",
    "adultFixed = predict(adultNAfix, newdata = adult)\n",
    "\n",
    "levels(adultFixed$education) = c(\"Gradeshool\",\"Gradeschool\",\"Gradeschool\", \"Gradeschool\",\n",
    "                                 \"Gradeshool\",\"Gradeshool\",\"Gradeshool\",\"Associates\",\n",
    "                                 \"Associates\", \"Bachelors\", \"Post_Grad\", \"HS+\", \"Post_Grad\",\n",
    "                                 \"Gradeschool\",\"HS+\", \"HS+\")\n",
    "levels(adultFixed$occupation) = c(\"Misc\", \"Business\", \"Protection\", \"Labor\", \"Business\",\n",
    "                                  \"Labor\", \"Labor\", \"Tech\", \"Misc\", \"Labor\", \"Misc\",\n",
    "                                  \"Protection\", \"Business\", \"Tech\", \"Labor\")\n",
    "levels(adultFixed$native_country) = c(\"NA\", \"AFR\", \"NA\", \"AS\", \"SA\", \"NA\", \"NA\", \"SA\", \"NA\",\n",
    "                                      \"EU\", \"EU\", \"EU\", \"EU\", \"NA\", \"NA\", \"EU\", \"NA\", \"AS\",\n",
    "                                      \"EU\", \"AS\", \"AS\", \"EU\", \"EU\", \"NA\", \"AS\", \"AS\", \"NA\",\n",
    "                                      \"NA\", \"NA\", \"SA\", \"AS\", \"EU\", \"EU\", \"NA\", \"EU\",\n",
    "                                      \"AS\", \"AS\", \"AS\", \"NA\", \"NA\", \"AS\", \"EU\")\n",
    "\n",
    "dummies_model <- dummyVars(target ~ ., data=adultFixed)\n",
    "adultFixed_mat <- predict(dummies_model, newdata = adultFixed)\n",
    "FinalAdult <- data.frame(adultFixed_mat)\n",
    "FinalAdult$target <- adult$target\n",
    "\n",
    "set.seed(2018)\n",
    "splitIndex <- createDataPartition(FinalAdult$target, p = .70, list = FALSE, times = 1)\n",
    "train <- FinalAdult[ splitIndex,]\n",
    "test <- FinalAdult[-splitIndex,]\n",
    "model = rpart(target ~., data = train, method = \"class\")\n",
    "\n",
    "pred = predict(model, test, type = \"class\")\n",
    "\n",
    "cm = confusionMatrix(data = pred, reference = test$target, positive = \">50K\")\n",
    "cm$overall['Accuracy']\n",
    "cm$byClass['Balanced Accuracy']\n",
    "\n",
    "model2 = ranger(target ~., data = train)\n",
    "pred2  = predict(model2, data = test)$predictions\n",
    "cm2 = confusionMatrix(pred2, test$target, positive=\">50K\")\n",
    "cm2$overall['Accuracy']\n",
    "cm2$byClass['Balanced Accuracy']\n",
    "#12 encode in step five differently, read factors as.numeric\n",
    "adult = read.csv(\"adult.csv\", header = FALSE)\n",
    "names(adult) = c(\"age\", \"workclass\", \"fnlwgt\", \"education\", \"education_num\", \"marital_status\",\n",
    "  \"occupation\", \"relationship\", \"race\", \"sex\", \"capital_gain\", \"capital_loss\",\n",
    "  \"hours_per_week\", \"native_country\", \"target\")\n",
    "\n",
    "for(i in 1:ncol(adult)){\n",
    "    adult[,i][adult[,i] == \"?\"] = NA\n",
    "    mode = levels(adult[,i])[which.max(table(adult[,i]))]\n",
    "    if(is.factor(adult[,i])){\n",
    "      adult[,i][is.na(adult[,i])] = mode\n",
    "      \n",
    "    }\n",
    "}\n",
    "\n",
    "adultNAfix = preProcess(adult, method='medianImpute')\n",
    "adultFixed = predict(adultNAfix, newdata = adult)\n",
    "\n",
    "levels(adultFixed$education) = c(\"Gradeshool\",\"Gradeschool\",\"Gradeschool\", \"Gradeschool\",\n",
    "                                 \"Gradeshool\",\"Gradeshool\",\"Gradeshool\",\"Associates\",\n",
    "                                 \"Associates\", \"Bachelors\", \"Post_Grad\", \"HS+\", \"Post_Grad\",\n",
    "                                 \"Gradeschool\",\"HS+\", \"HS+\")\n",
    "levels(adultFixed$occupation) = c(\"Misc\", \"Business\", \"Protection\", \"Labor\", \"Business\",\n",
    "                                  \"Labor\", \"Labor\", \"Tech\", \"Misc\", \"Labor\", \"Misc\",\n",
    "                                  \"Protection\", \"Business\", \"Tech\", \"Labor\")\n",
    "levels(adultFixed$native_country) = c(\"NA\", \"AFR\", \"NA\", \"AS\", \"SA\", \"NA\", \"NA\", \"SA\", \"NA\",\n",
    "                                      \"EU\", \"EU\", \"EU\", \"EU\", \"NA\", \"NA\", \"EU\", \"NA\", \"AS\",\n",
    "                                      \"EU\", \"AS\", \"AS\", \"EU\", \"EU\", \"NA\", \"AS\", \"AS\", \"NA\",\n",
    "                                      \"NA\", \"NA\", \"SA\", \"AS\", \"EU\", \"EU\", \"NA\", \"EU\",\n",
    "                                      \"AS\", \"AS\", \"AS\", \"NA\", \"NA\", \"AS\", \"EU\")\n",
    "\n",
    "for(i in 1:(ncol(adultFixed)-1)){\n",
    "    adultFixed[,i]<-as.numeric(adultFixed[,i])\n",
    "}\n",
    "\n",
    "ScaleAndCenter <- preProcess(adultFixed, method= c(\"center\", \"scale\"))\n",
    "FinalAdult <- predict(ScaleAndCenter, newdata = adultFixed)\n",
    "\n",
    "set.seed(2018)\n",
    "splitIndex <- createDataPartition(FinalAdult$target, p = .70, list = FALSE, times = 1)\n",
    "train <- FinalAdult[ splitIndex,]\n",
    "test <- FinalAdult[-splitIndex,]\n",
    "model = rpart(target ~., data = train, method = \"class\")\n",
    "\n",
    "pred = predict(model, test, type = \"class\")\n",
    "\n",
    "cm = confusionMatrix(data = pred, reference = test$target, positive = \">50K\")\n",
    "cm$overall['Accuracy']\n",
    "cm$byClass['Balanced Accuracy']\n",
    "\n",
    "model2 = ranger(target ~., data = train)\n",
    "pred2  = predict(model2, data = test)$predictions\n",
    "cm2 = confusionMatrix(pred2, test$target, positive=\">50K\")\n",
    "cm2$overall['Accuracy']\n",
    "cm2$byClass['Balanced Accuracy']\n",
    "\n",
    "\n",
    "#13. Skip step 4\n",
    "adult = read.csv(\"adult.csv\", header = FALSE)\n",
    "names(adult) = c(\"age\", \"workclass\", \"fnlwgt\", \"education\", \"education_num\", \"marital_status\",\n",
    "  \"occupation\", \"relationship\", \"race\", \"sex\", \"capital_gain\", \"capital_loss\",\n",
    "  \"hours_per_week\", \"native_country\", \"target\")\n",
    "\n",
    "for(i in 1:ncol(adult)){\n",
    "    adult[,i][adult[,i] == \"?\"] = NA\n",
    "    mode = levels(adult[,i])[which.max(table(adult[,i]))]\n",
    "    if(is.factor(adult[,i])){\n",
    "      adult[,i][is.na(adult[,i])] = mode\n",
    "    }\n",
    "    }\n",
    "\n",
    "adultNAfix = preProcess(adult, method='medianImpute')\n",
    "adultFixed = predict(adultNAfix, newdata = adult)\n",
    "\n",
    "\n",
    "dummies_model <- dummyVars(target ~ ., data=adultFixed)\n",
    "adultFixed_mat <- predict(dummies_model, newdata = adultFixed)\n",
    "adultFixed2 <- data.frame(adultFixed_mat)\n",
    "adultFixed2$target <- adult$target\n",
    "\n",
    "ScaleAndCenter <- preProcess(adultFixed2, method= c(\"center\", \"scale\"))\n",
    "FinalAdult <- predict(ScaleAndCenter, newdata = adultFixed2)\n",
    "\n",
    "set.seed(2018)\n",
    "splitIndex <- createDataPartition(FinalAdult$target, p = .70, list = FALSE, times = 1)\n",
    "train <- FinalAdult[ splitIndex,]\n",
    "test <- FinalAdult[-splitIndex,]\n",
    "model = rpart(target ~., data = train, method = \"class\")\n",
    "\n",
    "pred = predict(model, test, type = \"class\")\n",
    "\n",
    "cm = confusionMatrix(data = pred, reference = test$target, positive = \">50K\")\n",
    "cm$overall['Accuracy']\n",
    "cm$byClass['Balanced Accuracy']\n",
    "\n",
    "model2 = ranger(target ~., data = train)\n",
    "pred2  = predict(model2, data = test)$predictions\n",
    "cm2 = confusionMatrix(pred2, test$target, positive=\">50K\")\n",
    "cm2$overall['Accuracy']\n",
    "cm2$byClass['Balanced Accuracy']"
   ]
  },
  {
   "cell_type": "code",
   "execution_count": null,
   "metadata": {},
   "outputs": [],
   "source": []
  }
 ],
 "metadata": {
  "kernelspec": {
   "display_name": "R",
   "language": "R",
   "name": "ir"
  },
  "language_info": {
   "codemirror_mode": "r",
   "file_extension": ".r",
   "mimetype": "text/x-r-source",
   "name": "R",
   "pygments_lexer": "r",
   "version": "3.5.1"
  }
 },
 "nbformat": 4,
 "nbformat_minor": 2
}
