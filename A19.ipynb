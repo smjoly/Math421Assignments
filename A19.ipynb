{
 "cells": [
  {
   "cell_type": "code",
   "execution_count": 2,
   "metadata": {},
   "outputs": [
    {
     "name": "stdout",
     "output_type": "stream",
     "text": [
      "Confusion Matrix and Statistics\n",
      "\n",
      "          Reference\n",
      "Prediction   0   1\n",
      "         0 827  20\n",
      "         1 134  72\n",
      "                                          \n",
      "               Accuracy : 0.8538          \n",
      "                 95% CI : (0.8309, 0.8746)\n",
      "    No Information Rate : 0.9126          \n",
      "    P-Value [Acc > NIR] : 1               \n",
      "                                          \n",
      "                  Kappa : 0.4122          \n",
      " Mcnemar's Test P-Value : <2e-16          \n",
      "                                          \n",
      "            Sensitivity : 0.78261         \n",
      "            Specificity : 0.86056         \n",
      "         Pos Pred Value : 0.34951         \n",
      "         Neg Pred Value : 0.97639         \n",
      "             Prevalence : 0.08737         \n",
      "         Detection Rate : 0.06838         \n",
      "   Detection Prevalence : 0.19563         \n",
      "      Balanced Accuracy : 0.82159         \n",
      "                                          \n",
      "       'Positive' Class : 1               \n",
      "                                          \n"
     ]
    }
   ],
   "source": [
    "library(lattice)\n",
    "library(ranger)\n",
    "library(caret)\n",
    "df = read.csv('hmeq.csv')\n",
    "df = df[complete.cases(df),]\n",
    "df$BAD = as.factor(df$BAD)\n",
    "names(df)[1] = 'target'\n",
    "\n",
    "\n",
    "splitIndex <- createDataPartition(df$target, p = .70, list = FALSE, times = 1)\n",
    "train <- df[ splitIndex,]\n",
    "test <- df[-splitIndex,]\n",
    "\n",
    "train0 = train[train$target == '0',]\n",
    "train1 = train[train$target == '1',]\n",
    "n0 = nrow(train0)\n",
    "n1 = nrow(train1)\n",
    "preds = NULL\n",
    "\n",
    "for(i in 1:1000){\n",
    "  train00 = train0[sample(1:n0, n1),]\n",
    "  train_under = rbind(train00, train1)\n",
    "  model_under = ranger(target~., data = train_under)\n",
    "  pred  = predict(model_under, data = test)$predictions\n",
    "  preds = cbind(preds,pred)\n",
    "}\n",
    "\n",
    "preds = preds - 1\n",
    "\n",
    "cc = as.factor(c(round(rowMeans(preds))))\n",
    "\n",
    "cm=confusionMatrix(cc, test$target, positive=\"1\")\n",
    "\n",
    "print(cm)"
   ]
  },
  {
   "cell_type": "code",
   "execution_count": null,
   "metadata": {},
   "outputs": [],
   "source": []
  }
 ],
 "metadata": {
  "kernelspec": {
   "display_name": "R",
   "language": "R",
   "name": "ir"
  },
  "language_info": {
   "codemirror_mode": "r",
   "file_extension": ".r",
   "mimetype": "text/x-r-source",
   "name": "R",
   "pygments_lexer": "r",
   "version": "3.5.1"
  }
 },
 "nbformat": 4,
 "nbformat_minor": 2
}
